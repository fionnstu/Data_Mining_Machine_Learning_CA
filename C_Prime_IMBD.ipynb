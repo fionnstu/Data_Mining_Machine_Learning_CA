{
 "cells": [
  {
   "cell_type": "code",
   "execution_count": 2,
   "id": "a31b58e3",
   "metadata": {
    "scrolled": true
   },
   "outputs": [
    {
     "name": "stdout",
     "output_type": "stream",
     "text": [
      "         id                  title   type  \\\n",
      "0   tm87233  It's a Wonderful Life  MOVIE   \n",
      "1  tm143047              Duck Soup  MOVIE   \n",
      "2   tm83884        His Girl Friday  MOVIE   \n",
      "3   ts20945      The Three Stooges   SHOW   \n",
      "4    tm5012              Red River  MOVIE   \n",
      "\n",
      "                                         description  release_year  \\\n",
      "0  A holiday favourite for generations...  George...          1946   \n",
      "1  Rufus T. Firefly is named president/dictator o...          1933   \n",
      "2  Hildy, the journalist former wife of newspaper...          1940   \n",
      "3  The Three Stooges were an American vaudeville ...          1934   \n",
      "4  Headstrong Thomas Dunson starts a thriving Tex...          1948   \n",
      "\n",
      "  age_certification  runtime  \\\n",
      "0                PG      130   \n",
      "1               NaN       69   \n",
      "2               NaN       92   \n",
      "3             TV-PG       19   \n",
      "4               NaN      133   \n",
      "\n",
      "                                              genres production_countries  \\\n",
      "0  ['drama', 'family', 'fantasy', 'romance', 'com...               ['US']   \n",
      "1                                  ['comedy', 'war']               ['US']   \n",
      "2                     ['drama', 'romance', 'comedy']               ['US']   \n",
      "3                               ['comedy', 'family']               ['US']   \n",
      "4          ['western', 'drama', 'romance', 'action']               ['US']   \n",
      "\n",
      "   seasons    imdb_id  imdb_score  imdb_votes  tmdb_popularity  tmdb_score  \n",
      "0      NaN  tt0038650         8.6    467766.0           27.611       8.261  \n",
      "1      NaN  tt0023969         7.8     60933.0            9.013       7.357  \n",
      "2      NaN  tt0032599         7.8     60244.0           14.759       7.433  \n",
      "3     26.0  tt0850645         8.5      1149.0           15.424       7.600  \n",
      "4      NaN  tt0040724         7.8     32210.0           12.400       7.400  \n",
      "id                       object\n",
      "title                    object\n",
      "type                     object\n",
      "description              object\n",
      "release_year              int64\n",
      "age_certification        object\n",
      "runtime                   int64\n",
      "genres                   object\n",
      "production_countries     object\n",
      "seasons                 float64\n",
      "imdb_id                  object\n",
      "imdb_score              float64\n",
      "imdb_votes              float64\n",
      "tmdb_popularity         float64\n",
      "tmdb_score              float64\n",
      "dtype: object\n"
     ]
    },
    {
     "data": {
      "text/plain": [
       "<AxesSubplot:xlabel='release_year'>"
      ]
     },
     "execution_count": 2,
     "metadata": {},
     "output_type": "execute_result"
    },
    {
     "data": {
      "image/png": "[encoded data removed]",
      "text/plain": [
       "<Figure size 432x288 with 1 Axes>"
      ]
     },
     "metadata": {
      "needs_background": "light"
     },
     "output_type": "display_data"
    }
   ],
   "source": [
    "import pandas as pd\n",
    "import ast\n",
    "from sklearn.preprocessing import MultiLabelBinarizer\n",
    "from sklearn.model_selection import train_test_split\n",
    "from sklearn.linear_model import LinearRegression\n",
    "import matplotlib.pyplot as plt\n",
    "\n",
    "# Load the data\n",
    "data = pd.read_csv('Amazon_titles.csv')\n",
    "print(data.head())\n",
    "\n",
    "# print the data types\n",
    "print(data.dtypes)\n",
    "\n",
    "#plt.plot(data['imdb_score'])\n",
    "data.groupby('release_year')['imdb_score'].mean().plot()\n",
    "\n",
    "#plt.scatter(data['release_year'], data['imdb_score'])\n",
    "#plt.show()"
   ]
  },
  {
   "cell_type": "code",
   "execution_count": 3,
   "id": "c40e104f",
   "metadata": {},
   "outputs": [
    {
     "name": "stderr",
     "output_type": "stream",
     "text": [
      "C:\\Users\\fionn\\AppData\\Local\\Temp\\ipykernel_26316\\865703434.py:11: FutureWarning: Using the level keyword in DataFrame and Series aggregations is deprecated and will be removed in a future version. Use groupby instead. df.sum(level=1) should use df.groupby(level=1).sum().\n",
      "  year = pd.get_dummies(df['release_year'].apply(pd.Series).stack()).sum(level=0)\n",
      "C:\\Users\\fionn\\anaconda3\\lib\\site-packages\\sklearn\\utils\\validation.py:1688: FutureWarning: Feature names only support names that are all strings. Got feature names with dtypes: ['int', 'str']. An error will be raised in 1.2.\n",
      "  warnings.warn(\n",
      "C:\\Users\\fionn\\anaconda3\\lib\\site-packages\\sklearn\\utils\\validation.py:1688: FutureWarning: Feature names only support names that are all strings. Got feature names with dtypes: ['int', 'str']. An error will be raised in 1.2.\n",
      "  warnings.warn(\n"
     ]
    },
    {
     "name": "stdout",
     "output_type": "stream",
     "text": [
      "KNN Classifier:\n",
      "Accuracy: 0.743208610968734\n",
      "Precision: 0.4454828660436137\n",
      "recall: 0.30686695278969955\n",
      "f1: 0.36340533672172803\n",
      "tn, fp, fn, tp: 1307 178 323 143\n"
     ]
    }
   ],
   "source": [
    "#KNN Classifier\n",
    "import pandas as pd\n",
    "from sklearn.neighbors import KNeighborsClassifier\n",
    "from sklearn.model_selection import train_test_split\n",
    "from sklearn.metrics import accuracy_score, precision_score, recall_score, f1_score, confusion_matrix\n",
    "\n",
    "# Load the data\n",
    "df = pd.read_csv(\"Amazon_titles.csv\")\n",
    "\n",
    "# create a one-hot encoded version of the release_year column\n",
    "year = pd.get_dummies(df['release_year'].apply(pd.Series).stack()).sum(level=0)\n",
    "\n",
    "# concatenate the one-hot encoded year with the other features\n",
    "X = pd.concat([df[['release_year', 'runtime', 'imdb_votes']], year], axis=1)\n",
    "\n",
    "# select the target variable\n",
    "y = df['imdb_score'].apply(lambda x: 1 if x >= 7 else 0)  # convert imdb_score to binary class (good/bad)\n",
    "\n",
    "# drop any rows that contain missing values\n",
    "X = X.dropna(axis=0)\n",
    "y = y.loc[X.index]\n",
    "\n",
    "# split the data into training and testing sets\n",
    "X_train, X_test, y_train, y_test = train_test_split(X, y, test_size=0.2, random_state=1)\n",
    "\n",
    "# fit the KNN classifier on the training set\n",
    "k = 5\n",
    "knn = KNeighborsClassifier(n_neighbors=k)\n",
    "knn.fit(X_train, y_train)\n",
    "\n",
    "# make predictions on the test set\n",
    "y_pred = knn.predict(X_test)\n",
    "\n",
    "# evaluate the performance of the model\n",
    "accuracy = accuracy_score(y_test, y_pred)\n",
    "precision = precision_score(y_test, y_pred)\n",
    "recall = recall_score(y_test, y_pred)\n",
    "f1 = f1_score(y_test, y_pred)\n",
    "tn, fp, fn, tp = confusion_matrix(y_test, y_pred).ravel()\n",
    "\n",
    "print(\"KNN Classifier:\")\n",
    "print(\"Accuracy:\", accuracy)\n",
    "print('Precision:', precision)\n",
    "print('recall:', recall)\n",
    "print('f1:', f1)\n",
    "print('tn, fp, fn, tp:', tn, fp, fn, tp)"
   ]
  },
  {
   "cell_type": "code",
   "execution_count": 4,
   "id": "c0db182c",
   "metadata": {},
   "outputs": [
    {
     "name": "stdout",
     "output_type": "stream",
     "text": [
      "Decision Tree Classifier\n",
      "Accuracy: 0.7191184008200923\n",
      "Precision: 0.42023346303501946\n",
      "recall: 0.463519313304721\n",
      "f1: 0.4408163265306122\n",
      "tn, fp, fn, tp: 1187 298 250 216\n"
     ]
    },
    {
     "name": "stderr",
     "output_type": "stream",
     "text": [
      "C:\\Users\\fionn\\AppData\\Local\\Temp\\ipykernel_26316\\2480415733.py:11: FutureWarning: Using the level keyword in DataFrame and Series aggregations is deprecated and will be removed in a future version. Use groupby instead. df.sum(level=1) should use df.groupby(level=1).sum().\n",
      "  year = pd.get_dummies(df['release_year'].apply(pd.Series).stack()).sum(level=0)\n",
      "C:\\Users\\fionn\\anaconda3\\lib\\site-packages\\sklearn\\utils\\validation.py:1688: FutureWarning: Feature names only support names that are all strings. Got feature names with dtypes: ['int', 'str']. An error will be raised in 1.2.\n",
      "  warnings.warn(\n",
      "C:\\Users\\fionn\\anaconda3\\lib\\site-packages\\sklearn\\utils\\validation.py:1688: FutureWarning: Feature names only support names that are all strings. Got feature names with dtypes: ['int', 'str']. An error will be raised in 1.2.\n",
      "  warnings.warn(\n"
     ]
    }
   ],
   "source": [
    "# decision tree classifier\n",
    "import pandas as pd\n",
    "from sklearn.tree import DecisionTreeClassifier\n",
    "from sklearn.model_selection import train_test_split\n",
    "from sklearn.metrics import accuracy_score, precision_score, recall_score, f1_score, confusion_matrix\n",
    "\n",
    "# Load the data\n",
    "df = pd.read_csv(\"Amazon_titles.csv\")\n",
    "\n",
    "# create a one-hot encoded version of the release_year column\n",
    "year = pd.get_dummies(df['release_year'].apply(pd.Series).stack()).sum(level=0)\n",
    "\n",
    "# concatenate the one-hot encoded year with the other features\n",
    "X = pd.concat([df[['release_year', 'runtime', 'imdb_votes']], year], axis=1)\n",
    "\n",
    "# select the target variable\n",
    "y = df['imdb_score'].apply(lambda x: 1 if x >= 7 else 0)  # convert imdb_score to binary \n",
    "\n",
    "# drop any rows that contain missing values\n",
    "X = X.dropna(axis=0)\n",
    "y = y.loc[X.index]\n",
    "\n",
    "# split the data into training and testing sets\n",
    "X_train, X_test, y_train, y_test = train_test_split(X, y, test_size=0.2, random_state=1)\n",
    "\n",
    "# fit the decision tree classifier on the training set\n",
    "dtc = DecisionTreeClassifier(random_state=1)\n",
    "dtc.fit(X_train, y_train)\n",
    "\n",
    "# make predictions on the test set\n",
    "y_pred = dtc.predict(X_test)\n",
    "\n",
    "# evaluate the performance of the model\n",
    "accuracy = accuracy_score(y_test, y_pred)\n",
    "precision = precision_score(y_test, y_pred)\n",
    "recall = recall_score(y_test, y_pred)\n",
    "f1 = f1_score(y_test, y_pred)\n",
    "tn, fp, fn, tp = confusion_matrix(y_test, y_pred).ravel()\n",
    "\n",
    "print(\"Decision Tree Classifier\")\n",
    "print(\"Accuracy:\", accuracy)\n",
    "print('Precision:', precision)\n",
    "print('recall:', recall)\n",
    "print('f1:', f1)\n",
    "print('tn, fp, fn, tp:', tn, fp, fn, tp)\n"
   ]
  },
  {
   "cell_type": "code",
   "execution_count": null,
   "id": "7b869021",
   "metadata": {},
   "outputs": [],
   "source": []
  }
 ],
 "metadata": {
  "kernelspec": {
   "display_name": "Python 3 (ipykernel)",
   "language": "python",
   "name": "python3"
  },
  "language_info": {
   "codemirror_mode": {
    "name": "ipython",
    "version": 3
   },
   "file_extension": ".py",
   "mimetype": "text/x-python",
   "name": "python",
   "nbconvert_exporter": "python",
   "pygments_lexer": "ipython3",
   "version": "3.9.12"
  }
 },
 "nbformat": 4,
 "nbformat_minor": 5
}
