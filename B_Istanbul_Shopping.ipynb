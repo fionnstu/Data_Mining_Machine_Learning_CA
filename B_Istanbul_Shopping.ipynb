{
 "cells": [
  {
   "cell_type": "code",
   "execution_count": 6,
   "id": "ce0adcfa",
   "metadata": {
    "scrolled": true
   },
   "outputs": [
    {
     "name": "stdout",
     "output_type": "stream",
     "text": [
      "  invoice_no customer_id  gender  age  category  quantity    price  \\\n",
      "0    I138884     C241288  Female   28  Clothing         5  1500.40   \n",
      "1    I317333     C111565    Male   21     Shoes         3  1800.51   \n",
      "2    I127801     C266599    Male   20  Clothing         1   300.08   \n",
      "3    I173702     C988172  Female   66     Shoes         5  3000.85   \n",
      "4    I337046     C189076  Female   53     Books         4    60.60   \n",
      "\n",
      "  payment_method invoice_date   shopping_mall  \n",
      "0    Credit Card   05/08/2022          Kanyon  \n",
      "1     Debit Card   12/12/2021  Forum Istanbul  \n",
      "2           Cash   09/11/2021       Metrocity  \n",
      "3    Credit Card   16/05/2021    Metropol AVM  \n",
      "4           Cash   24/10/2021          Kanyon  \n",
      "invoice_no         object\n",
      "customer_id        object\n",
      "gender             object\n",
      "age                 int64\n",
      "category           object\n",
      "quantity            int64\n",
      "price             float64\n",
      "payment_method     object\n",
      "invoice_date       object\n",
      "shopping_mall      object\n",
      "dtype: object\n",
      "gender\n",
      "Female    688.137615\n",
      "Male      690.920933\n",
      "Name: price, dtype: float64\n"
     ]
    },
    {
     "data": {
      "image/png": "[encoded data removed]",
      "text/plain": [
       "<Figure size 432x288 with 1 Axes>"
      ]
     },
     "metadata": {
      "needs_background": "light"
     },
     "output_type": "display_data"
    },
    {
     "data": {
      "image/png": "[encoded data removed]",
      "text/plain": [
       "<Figure size 432x288 with 1 Axes>"
      ]
     },
     "metadata": {
      "needs_background": "light"
     },
     "output_type": "display_data"
    },
    {
     "name": "stdout",
     "output_type": "stream",
     "text": [
      "637 ms ± 0 ns per loop (mean ± std. dev. of 1 run, 1 loop each)\n"
     ]
    }
   ],
   "source": [
    "%%timeit -n 1 -r 1\n",
    "\n",
    "import seaborn as sns\n",
    "import pandas as pd\n",
    "import matplotlib.pyplot as plt\n",
    "\n",
    "# Load the data\n",
    "df = pd.read_csv('Istanbul_shopping.csv')\n",
    "print(df.head())\n",
    "\n",
    "# print the data types\n",
    "print(df.dtypes)\n",
    "\n",
    "# Group the data by gender and calculate the mean money spent\n",
    "grouped = df.groupby('gender')['price'].mean()\n",
    "print(grouped)\n",
    "\n",
    "# Plot the data\n",
    "grouped.plot(kind='bar')\n",
    "plt.xlabel('Gender')\n",
    "plt.ylabel('Mean Money Spent')\n",
    "plt.title('Mean Money Spent by Gender')\n",
    "plt.show()\n",
    "\n",
    "# Create a boxplot\n",
    "sns.boxplot(x='gender', y='price', data=df)\n",
    "\n",
    "# Set the title and axes labels\n",
    "plt.title('Money Spent by Gender')\n",
    "plt.xlabel('Gender')\n",
    "plt.ylabel('Price')\n",
    "\n",
    "# Show the plot\n",
    "plt.show()"
   ]
  },
  {
   "cell_type": "code",
   "execution_count": 5,
   "id": "8ae739ab",
   "metadata": {},
   "outputs": [
    {
     "name": "stdout",
     "output_type": "stream",
     "text": [
      "Naive Bayes\n",
      "Accuracy: 0.5857128493866881\n",
      "Precision: 0.5939586645468998\n",
      "Recall: 0.9508780860269789\n",
      "F1 Score: 0.7311870045992758\n",
      "Confusion Matrix:\n",
      " [[11208   579]\n",
      " [ 7662   443]]\n",
      "tn, fp, fn, tp: 11208 579 7662 443\n",
      "828 ms ± 0 ns per loop (mean ± std. dev. of 1 run, 1 loop each)\n"
     ]
    }
   ],
   "source": [
    "%%timeit -n 1 -r 1\n",
    "# Naive Bayes\n",
    "import pandas as pd\n",
    "from sklearn.model_selection import train_test_split\n",
    "from sklearn.naive_bayes import GaussianNB\n",
    "from sklearn.metrics import accuracy_score\n",
    "from sklearn.metrics import precision_score, recall_score, f1_score, confusion_matrix\n",
    "\n",
    "# Load the data\n",
    "df = pd.read_csv('Istanbul_shopping.csv')\n",
    "\n",
    "# Prepare the data\n",
    "X = df[['age', 'quantity', 'price', 'category']]\n",
    "#X = df[['age', 'quantity', 'price', 'payment_method']]\n",
    "\n",
    "y = df['gender']\n",
    "X = pd.get_dummies(X, columns=['category']) # One-hot encoding for categorical features\n",
    "#X = pd.get_dummies(X, columns=['payment_method']) # One-hot encoding for categorical features\n",
    "\n",
    "# Data cleaning\n",
    "df = df.dropna()\n",
    "\n",
    "# Split the data\n",
    "X_train, X_test, y_train, y_test = train_test_split(X, y, test_size=0.2, random_state=42)\n",
    "\n",
    "# Train the model\n",
    "model = GaussianNB()\n",
    "model.fit(X_train, y_train)\n",
    "\n",
    "# Make predictions\n",
    "y_pred = model.predict(X_test)\n",
    "\n",
    "# Evaluation metrics\n",
    "accuracy = accuracy_score(y_test, y_pred)\n",
    "precision = precision_score(y_test, y_pred, pos_label='Female')\n",
    "recall = recall_score(y_test, y_pred, pos_label='Female')\n",
    "f1 = f1_score(y_test, y_pred, pos_label='Female')\n",
    "tn, fp, fn, tp = confusion_matrix(y_test, y_pred).ravel()\n",
    "\n",
    "print(\"Naive Bayes\")\n",
    "print(\"Accuracy:\", accuracy)\n",
    "print(\"Precision:\", precision)\n",
    "print(\"Recall:\", recall)\n",
    "print(\"F1 Score:\", f1)\n",
    "print('tn, fp, fn, tp:', tn, fp, fn, tp)"
   ]
  },
  {
   "cell_type": "code",
   "execution_count": 7,
   "id": "d6e34bb9",
   "metadata": {},
   "outputs": [
    {
     "name": "stdout",
     "output_type": "stream",
     "text": [
      "Decision Tree Classifier:\n",
      "Accuracy: 0.581138145988337\n",
      "Precision: 0.5942598352158018\n",
      "Recall: 0.923984050224824\n",
      "F1 Score: 0.7233180580460916\n",
      "tn, fp, fn, tp: 10891 896 7436 669\n",
      "882 ms ± 0 ns per loop (mean ± std. dev. of 1 run, 1 loop each)\n"
     ]
    }
   ],
   "source": [
    "%%timeit -n 1 -r 1\n",
    "# Decision Tree Classifier\n",
    "import pandas as pd\n",
    "from sklearn.model_selection import train_test_split\n",
    "from sklearn.tree import DecisionTreeClassifier\n",
    "from sklearn.metrics import accuracy_score, precision_score, recall_score, f1_score, confusion_matrix\n",
    "\n",
    "# Load the data\n",
    "df = pd.read_csv('Istanbul_shopping.csv')\n",
    "\n",
    "# Prepare the data\n",
    "X = df[['age', 'category', 'quantity', 'price']]\n",
    "y = df['gender']\n",
    "X = pd.get_dummies(X, columns=['category']) # One-hot encoding for categorical features\n",
    "\n",
    "# Data cleaning\n",
    "df = df.dropna()\n",
    "\n",
    "# Split the data\n",
    "X_train, X_test, y_train, y_test = train_test_split(X, y, test_size=0.2, random_state=42)\n",
    "\n",
    "# Train the model\n",
    "model = DecisionTreeClassifier(random_state=42)\n",
    "model.fit(X_train, y_train)\n",
    "\n",
    "# Make predictions\n",
    "y_pred = model.predict(X_test)\n",
    "\n",
    "# Evaluate the model\n",
    "accuracy = accuracy_score(y_test, y_pred)\n",
    "precision = precision_score(y_test, y_pred, pos_label='Female')\n",
    "recall = recall_score(y_test, y_pred, pos_label='Female')\n",
    "f1 = f1_score(y_test, y_pred, pos_label='Female')\n",
    "tn, fp, fn, tp = confusion_matrix(y_test, y_pred).ravel()\n",
    "\n",
    "print(\"Decision Tree Classifier:\")\n",
    "print(\"Accuracy:\", accuracy)\n",
    "print(\"Precision:\", precision)\n",
    "print(\"Recall:\", recall)\n",
    "print(\"F1 Score:\", f1)\n",
    "print('tn, fp, fn, tp:', tn, fp, fn, tp)"
   ]
  },
  {
   "cell_type": "code",
   "execution_count": 8,
   "id": "42c9277e",
   "metadata": {},
   "outputs": [
    {
     "name": "stdout",
     "output_type": "stream",
     "text": [
      "SVM\n",
      "Accuracy: 0.5925497687512568\n",
      "Precision: 0.5925497687512568\n",
      "Recall: 1.0\n",
      "F1 Score: 0.744152277534013\n",
      "tn, fp, fn, tp: 11787 0 8105 0\n",
      "7min 42s ± 0 ns per loop (mean ± std. dev. of 1 run, 1 loop each)\n"
     ]
    }
   ],
   "source": [
    "%%timeit -n 1 -r 1\n",
    "# SVM\n",
    "import pandas as pd\n",
    "from sklearn.model_selection import train_test_split\n",
    "from sklearn.svm import SVC\n",
    "from sklearn.metrics import accuracy_score, precision_score, recall_score, f1_score, confusion_matrix\n",
    "from sklearn.preprocessing import StandardScaler\n",
    "from sklearn.pipeline import make_pipeline\n",
    "\n",
    "# Load the data\n",
    "df = pd.read_csv('Istanbul_shopping.csv')\n",
    "\n",
    "# Prepare the data\n",
    "X = df[['age', 'category', 'quantity', 'price']]\n",
    "y = df['gender']\n",
    "X = pd.get_dummies(X, columns=['category']) # One-hot encoding for categorical features\n",
    "\n",
    "# Split the data\n",
    "X_train, X_test, y_train, y_test = train_test_split(X, y, test_size=0.2, random_state=42)\n",
    "\n",
    "# Build the SVM pipeline\n",
    "svm = make_pipeline(StandardScaler(), SVC(kernel='rbf', C=10, gamma=0.1))\n",
    "\n",
    "# Train the model\n",
    "svm.fit(X_train, y_train)\n",
    "\n",
    "# Make predictions\n",
    "y_pred = svm.predict(X_test)\n",
    "\n",
    "# Evaluate the model\n",
    "accuracy = accuracy_score(y_test, y_pred)\n",
    "if 'female' in y_test.unique():\n",
    "    pos_label = 'female'\n",
    "else:\n",
    "    pos_label = y_test.unique()[0]\n",
    "precision = precision_score(y_test, y_pred, pos_label=pos_label)\n",
    "recall = recall_score(y_test, y_pred, pos_label=pos_label)\n",
    "f1 = f1_score(y_test, y_pred, pos_label=pos_label)\n",
    "tn, fp, fn, tp = confusion_matrix(y_test, y_pred).ravel()\n",
    "\n",
    "print(\"SVM\")\n",
    "print(\"Accuracy:\", accuracy)\n",
    "print(\"Precision:\", precision)\n",
    "print(\"Recall:\", recall)\n",
    "print(\"F1 Score:\", f1)\n",
    "print('tn, fp, fn, tp:', tn, fp, fn, tp)\n"
   ]
  },
  {
   "cell_type": "code",
   "execution_count": null,
   "id": "900185c8",
   "metadata": {},
   "outputs": [],
   "source": []
  }
 ],
 "metadata": {
  "kernelspec": {
   "display_name": "Python 3 (ipykernel)",
   "language": "python",
   "name": "python3"
  },
  "language_info": {
   "codemirror_mode": {
    "name": "ipython",
    "version": 3
   },
   "file_extension": ".py",
   "mimetype": "text/x-python",
   "name": "python",
   "nbconvert_exporter": "python",
   "pygments_lexer": "ipython3",
   "version": "3.9.12"
  }
 },
 "nbformat": 4,
 "nbformat_minor": 5
}
